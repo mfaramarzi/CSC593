{
 "cells": [
  {
   "cell_type": "markdown",
   "metadata": {
    "nbpresent": {
     "id": "07c056f8-7949-4dd6-985c-6d2e0ab1dbe3"
    }
   },
   "source": [
    "# Intro to Python Programming Language #\n",
    "\n",
    "> Some content copied from the [official python tutorial](https://docs.python.org/3/tutorial/).  See the tutorial for much more in-depth coverage.\n",
    "\n",
    "> Follows reading in 'Real World Instrumentation', Chapter 3 (pgs. 61 to 121).\n",
    "\n",
    "> Other Resources: https://www.youtube.com/watch?v=rkx5_MRAV3A\n",
    "\n",
    "Instructions:  First spend some time navigating the Jupyter workspace.  Also try out the IPy workspace and the Spyder workspace. These are all called Integrated Development Environments (IDEs).  They give you a command line to execute your scripts.  They often have a text editor for writing code.  They can help you display your variables to look at what is in the workspace."
   ]
  },
  {
   "cell_type": "markdown",
   "metadata": {
    "nbpresent": {
     "id": "957c7b1d-67a6-4fa4-98f0-a3857a24c08c"
    },
    "slideshow": {
     "slide_type": "slide"
    }
   },
   "source": [
    "### Importing modules and packages\n",
    "> Python does not explicitly load the libraries of functions (called modules).  This saves on memory and data efficiency, but it means we must load the ones that we need.  There are several different approaches to loading modules.  Here, we will use the object oriented approach and load each module into a variable name that we can call or operate on.  The most common modules that we need are numpy, matplotlib, and os\n"
   ]
  },
  {
   "cell_type": "code",
   "execution_count": 36,
   "metadata": {
    "nbpresent": {
     "id": "e1b0fcc5-d45d-4684-94ab-e85322cbad14"
    }
   },
   "outputs": [],
   "source": [
    "# Import Numpy\n",
    "import numpy as np\n",
    "# Import plotting library\n",
    "#import.... \n",
    "import matplotlib.pyplot as plt \n",
    "from os import * #operating system handeling"
   ]
  },
  {
   "cell_type": "code",
   "execution_count": 2,
   "metadata": {},
   "outputs": [],
   "source": [
    "np.\n"
   ]
  },
  {
   "cell_type": "markdown",
   "metadata": {},
   "source": [
    "## Data types in Python ## "
   ]
  },
  {
   "cell_type": "code",
   "execution_count": 16,
   "metadata": {},
   "outputs": [],
   "source": [
    "# comments are anything that comes after the \"#\" symbol\n",
    "a = 1.       # assign 1 to variable a\n",
    "b = 'hello' # assign \"hello\" to variable b"
   ]
  },
  {
   "cell_type": "code",
   "execution_count": 17,
   "metadata": {},
   "outputs": [
    {
     "data": {
      "text/plain": [
       "float"
      ]
     },
     "execution_count": 17,
     "metadata": {},
     "output_type": "execute_result"
    }
   ],
   "source": [
    "type(a)"
   ]
  },
  {
   "cell_type": "code",
   "execution_count": 18,
   "metadata": {},
   "outputs": [],
   "source": [
    "# query the data type\n",
    "b?"
   ]
  },
  {
   "cell_type": "code",
   "execution_count": 19,
   "metadata": {},
   "outputs": [
    {
     "name": "stdout",
     "output_type": "stream",
     "text": [
      "1.0\n"
     ]
    }
   ],
   "source": [
    "# can recast some data types as others:\n",
    "print(str(a))"
   ]
  },
  {
   "cell_type": "markdown",
   "metadata": {
    "nbpresent": {
     "id": "090464b2-4093-4998-871c-a64ced1c4a07"
    }
   },
   "source": [
    "## Arithmetic operators:  \n",
    "\n",
    "~~~\n",
    "    +, -,*, /, **\n",
    "~~~"
   ]
  },
  {
   "cell_type": "code",
   "execution_count": 25,
   "metadata": {
    "nbpresent": {
     "id": "d99ec3e0-838c-49cd-9713-a52d0642c403"
    }
   },
   "outputs": [
    {
     "name": "stdout",
     "output_type": "stream",
     "text": [
      "0.7142857142857143\n"
     ]
    }
   ],
   "source": [
    "a = 3\n",
    "b = 4.2\n",
    "# Divide\n",
    "c = a/b; print(c) #; allows to add more commands to the same line!"
   ]
  },
  {
   "cell_type": "markdown",
   "metadata": {},
   "source": [
    "**Multiply a and b:**"
   ]
  },
  {
   "cell_type": "code",
   "execution_count": 26,
   "metadata": {},
   "outputs": [],
   "source": [
    "a*b; #adding ; prevent the result to be shown"
   ]
  },
  {
   "cell_type": "code",
   "execution_count": 27,
   "metadata": {},
   "outputs": [],
   "source": [
    "#Answer:"
   ]
  },
  {
   "cell_type": "markdown",
   "metadata": {
    "nbpresent": {
     "id": "84283273-7ff9-4d9f-910a-0cff6c1937d1"
    }
   },
   "source": [
    "**Compute a to the power of b:**"
   ]
  },
  {
   "cell_type": "code",
   "execution_count": 28,
   "metadata": {},
   "outputs": [
    {
     "data": {
      "text/plain": [
       "100.90420610885693"
      ]
     },
     "execution_count": 28,
     "metadata": {},
     "output_type": "execute_result"
    }
   ],
   "source": [
    "a**b"
   ]
  },
  {
   "cell_type": "code",
   "execution_count": 29,
   "metadata": {
    "nbpresent": {
     "id": "91318012-05c8-4695-a13c-f0dae5710480"
    }
   },
   "outputs": [],
   "source": [
    "#Answer:"
   ]
  },
  {
   "cell_type": "code",
   "execution_count": 30,
   "metadata": {},
   "outputs": [
    {
     "data": {
      "text/plain": [
       "4"
      ]
     },
     "execution_count": 30,
     "metadata": {},
     "output_type": "execute_result"
    }
   ],
   "source": [
    "# but not all types can be converted:\n",
    "int(b)"
   ]
  },
  {
   "cell_type": "markdown",
   "metadata": {},
   "source": [
    "### Getting help()"
   ]
  },
  {
   "cell_type": "code",
   "execution_count": 37,
   "metadata": {},
   "outputs": [
    {
     "name": "stdout",
     "output_type": "stream",
     "text": [
      "Help on function plot in module matplotlib.pyplot:\n",
      "\n",
      "plot(*args, scalex=True, scaley=True, data=None, **kwargs)\n",
      "    Plot y versus x as lines and/or markers.\n",
      "    \n",
      "    Call signatures::\n",
      "    \n",
      "        plot([x], y, [fmt], *, data=None, **kwargs)\n",
      "        plot([x], y, [fmt], [x2], y2, [fmt2], ..., **kwargs)\n",
      "    \n",
      "    The coordinates of the points or line nodes are given by *x*, *y*.\n",
      "    \n",
      "    The optional parameter *fmt* is a convenient way for defining basic\n",
      "    formatting like color, marker and linestyle. It's a shortcut string\n",
      "    notation described in the *Notes* section below.\n",
      "    \n",
      "    >>> plot(x, y)        # plot x and y using default line style and color\n",
      "    >>> plot(x, y, 'bo')  # plot x and y using blue circle markers\n",
      "    >>> plot(y)           # plot y using x as index array 0..N-1\n",
      "    >>> plot(y, 'r+')     # ditto, but with red plusses\n",
      "    \n",
      "    You can use `.Line2D` properties as keyword arguments for more\n",
      "    control on the appearance. Line properties and *fmt* can be mixed.\n",
      "    The following two calls yield identical results:\n",
      "    \n",
      "    >>> plot(x, y, 'go--', linewidth=2, markersize=12)\n",
      "    >>> plot(x, y, color='green', marker='o', linestyle='dashed',\n",
      "    ...      linewidth=2, markersize=12)\n",
      "    \n",
      "    When conflicting with *fmt*, keyword arguments take precedence.\n",
      "    \n",
      "    \n",
      "    **Plotting labelled data**\n",
      "    \n",
      "    There's a convenient way for plotting objects with labelled data (i.e.\n",
      "    data that can be accessed by index ``obj['y']``). Instead of giving\n",
      "    the data in *x* and *y*, you can provide the object in the *data*\n",
      "    parameter and just give the labels for *x* and *y*::\n",
      "    \n",
      "    >>> plot('xlabel', 'ylabel', data=obj)\n",
      "    \n",
      "    All indexable objects are supported. This could e.g. be a `dict`, a\n",
      "    `pandas.DataFrame` or a structured numpy array.\n",
      "    \n",
      "    \n",
      "    **Plotting multiple sets of data**\n",
      "    \n",
      "    There are various ways to plot multiple sets of data.\n",
      "    \n",
      "    - The most straight forward way is just to call `plot` multiple times.\n",
      "      Example:\n",
      "    \n",
      "      >>> plot(x1, y1, 'bo')\n",
      "      >>> plot(x2, y2, 'go')\n",
      "    \n",
      "    - Alternatively, if your data is already a 2d array, you can pass it\n",
      "      directly to *x*, *y*. A separate data set will be drawn for every\n",
      "      column.\n",
      "    \n",
      "      Example: an array ``a`` where the first column represents the *x*\n",
      "      values and the other columns are the *y* columns::\n",
      "    \n",
      "      >>> plot(a[0], a[1:])\n",
      "    \n",
      "    - The third way is to specify multiple sets of *[x]*, *y*, *[fmt]*\n",
      "      groups::\n",
      "    \n",
      "      >>> plot(x1, y1, 'g^', x2, y2, 'g-')\n",
      "    \n",
      "      In this case, any additional keyword argument applies to all\n",
      "      datasets. Also this syntax cannot be combined with the *data*\n",
      "      parameter.\n",
      "    \n",
      "    By default, each line is assigned a different style specified by a\n",
      "    'style cycle'. The *fmt* and line property parameters are only\n",
      "    necessary if you want explicit deviations from these defaults.\n",
      "    Alternatively, you can also change the style cycle using\n",
      "    :rc:`axes.prop_cycle`.\n",
      "    \n",
      "    \n",
      "    Parameters\n",
      "    ----------\n",
      "    x, y : array-like or scalar\n",
      "        The horizontal / vertical coordinates of the data points.\n",
      "        *x* values are optional and default to ``range(len(y))``.\n",
      "    \n",
      "        Commonly, these parameters are 1D arrays.\n",
      "    \n",
      "        They can also be scalars, or two-dimensional (in that case, the\n",
      "        columns represent separate data sets).\n",
      "    \n",
      "        These arguments cannot be passed as keywords.\n",
      "    \n",
      "    fmt : str, optional\n",
      "        A format string, e.g. 'ro' for red circles. See the *Notes*\n",
      "        section for a full description of the format strings.\n",
      "    \n",
      "        Format strings are just an abbreviation for quickly setting\n",
      "        basic line properties. All of these and more can also be\n",
      "        controlled by keyword arguments.\n",
      "    \n",
      "        This argument cannot be passed as keyword.\n",
      "    \n",
      "    data : indexable object, optional\n",
      "        An object with labelled data. If given, provide the label names to\n",
      "        plot in *x* and *y*.\n",
      "    \n",
      "        .. note::\n",
      "            Technically there's a slight ambiguity in calls where the\n",
      "            second label is a valid *fmt*. ``plot('n', 'o', data=obj)``\n",
      "            could be ``plt(x, y)`` or ``plt(y, fmt)``. In such cases,\n",
      "            the former interpretation is chosen, but a warning is issued.\n",
      "            You may suppress the warning by adding an empty format string\n",
      "            ``plot('n', 'o', '', data=obj)``.\n",
      "    \n",
      "    Returns\n",
      "    -------\n",
      "    list of `.Line2D`\n",
      "        A list of lines representing the plotted data.\n",
      "    \n",
      "    Other Parameters\n",
      "    ----------------\n",
      "    scalex, scaley : bool, default: True\n",
      "        These parameters determine if the view limits are adapted to the\n",
      "        data limits. The values are passed on to `autoscale_view`.\n",
      "    \n",
      "    **kwargs : `.Line2D` properties, optional\n",
      "        *kwargs* are used to specify properties like a line label (for\n",
      "        auto legends), linewidth, antialiasing, marker face color.\n",
      "        Example::\n",
      "    \n",
      "        >>> plot([1, 2, 3], [1, 2, 3], 'go-', label='line 1', linewidth=2)\n",
      "        >>> plot([1, 2, 3], [1, 4, 9], 'rs', label='line 2')\n",
      "    \n",
      "        If you make multiple lines with one plot call, the kwargs\n",
      "        apply to all those lines.\n",
      "    \n",
      "        Here is a list of available `.Line2D` properties:\n",
      "    \n",
      "        Properties:\n",
      "        agg_filter: a filter function, which takes a (m, n, 3) float array and a dpi value, and returns a (m, n, 3) array\n",
      "        alpha: float or None\n",
      "        animated: bool\n",
      "        antialiased or aa: bool\n",
      "        clip_box: `.Bbox`\n",
      "        clip_on: bool\n",
      "        clip_path: Patch or (Path, Transform) or None\n",
      "        color or c: color\n",
      "        contains: unknown\n",
      "        dash_capstyle: {'butt', 'round', 'projecting'}\n",
      "        dash_joinstyle: {'miter', 'round', 'bevel'}\n",
      "        dashes: sequence of floats (on/off ink in points) or (None, None)\n",
      "        data: (2, N) array or two 1D arrays\n",
      "        drawstyle or ds: {'default', 'steps', 'steps-pre', 'steps-mid', 'steps-post'}, default: 'default'\n",
      "        figure: `.Figure`\n",
      "        fillstyle: {'full', 'left', 'right', 'bottom', 'top', 'none'}\n",
      "        gid: str\n",
      "        in_layout: bool\n",
      "        label: object\n",
      "        linestyle or ls: {'-', '--', '-.', ':', '', (offset, on-off-seq), ...}\n",
      "        linewidth or lw: float\n",
      "        marker: marker style string, `~.path.Path` or `~.markers.MarkerStyle`\n",
      "        markeredgecolor or mec: color\n",
      "        markeredgewidth or mew: float\n",
      "        markerfacecolor or mfc: color\n",
      "        markerfacecoloralt or mfcalt: color\n",
      "        markersize or ms: float\n",
      "        markevery: None or int or (int, int) or slice or List[int] or float or (float, float) or List[bool]\n",
      "        path_effects: `.AbstractPathEffect`\n",
      "        picker: unknown\n",
      "        pickradius: float\n",
      "        rasterized: bool or None\n",
      "        sketch_params: (scale: float, length: float, randomness: float)\n",
      "        snap: bool or None\n",
      "        solid_capstyle: {'butt', 'round', 'projecting'}\n",
      "        solid_joinstyle: {'miter', 'round', 'bevel'}\n",
      "        transform: `matplotlib.transforms.Transform`\n",
      "        url: str\n",
      "        visible: bool\n",
      "        xdata: 1D array\n",
      "        ydata: 1D array\n",
      "        zorder: float\n",
      "    \n",
      "    See Also\n",
      "    --------\n",
      "    scatter : XY scatter plot with markers of varying size and/or color (\n",
      "        sometimes also called bubble chart).\n",
      "    \n",
      "    Notes\n",
      "    -----\n",
      "    **Format Strings**\n",
      "    \n",
      "    A format string consists of a part for color, marker and line::\n",
      "    \n",
      "        fmt = '[marker][line][color]'\n",
      "    \n",
      "    Each of them is optional. If not provided, the value from the style\n",
      "    cycle is used. Exception: If ``line`` is given, but no ``marker``,\n",
      "    the data will be a line without markers.\n",
      "    \n",
      "    Other combinations such as ``[color][marker][line]`` are also\n",
      "    supported, but note that their parsing may be ambiguous.\n",
      "    \n",
      "    **Markers**\n",
      "    \n",
      "    =============    ===============================\n",
      "    character        description\n",
      "    =============    ===============================\n",
      "    ``'.'``          point marker\n",
      "    ``','``          pixel marker\n",
      "    ``'o'``          circle marker\n",
      "    ``'v'``          triangle_down marker\n",
      "    ``'^'``          triangle_up marker\n",
      "    ``'<'``          triangle_left marker\n",
      "    ``'>'``          triangle_right marker\n",
      "    ``'1'``          tri_down marker\n",
      "    ``'2'``          tri_up marker\n",
      "    ``'3'``          tri_left marker\n",
      "    ``'4'``          tri_right marker\n",
      "    ``'s'``          square marker\n",
      "    ``'p'``          pentagon marker\n",
      "    ``'*'``          star marker\n",
      "    ``'h'``          hexagon1 marker\n",
      "    ``'H'``          hexagon2 marker\n",
      "    ``'+'``          plus marker\n",
      "    ``'x'``          x marker\n",
      "    ``'D'``          diamond marker\n",
      "    ``'d'``          thin_diamond marker\n",
      "    ``'|'``          vline marker\n",
      "    ``'_'``          hline marker\n",
      "    =============    ===============================\n",
      "    \n",
      "    **Line Styles**\n",
      "    \n",
      "    =============    ===============================\n",
      "    character        description\n",
      "    =============    ===============================\n",
      "    ``'-'``          solid line style\n",
      "    ``'--'``         dashed line style\n",
      "    ``'-.'``         dash-dot line style\n",
      "    ``':'``          dotted line style\n",
      "    =============    ===============================\n",
      "    \n",
      "    Example format strings::\n",
      "    \n",
      "        'b'    # blue markers with default shape\n",
      "        'or'   # red circles\n",
      "        '-g'   # green solid line\n",
      "        '--'   # dashed line with default color\n",
      "        '^k:'  # black triangle_up markers connected by a dotted line\n",
      "    \n",
      "    **Colors**\n",
      "    \n",
      "    The supported color abbreviations are the single letter codes\n",
      "    \n",
      "    =============    ===============================\n",
      "    character        color\n",
      "    =============    ===============================\n",
      "    ``'b'``          blue\n",
      "    ``'g'``          green\n",
      "    ``'r'``          red\n",
      "    ``'c'``          cyan\n",
      "    ``'m'``          magenta\n",
      "    ``'y'``          yellow\n",
      "    ``'k'``          black\n",
      "    ``'w'``          white\n",
      "    =============    ===============================\n",
      "    \n",
      "    and the ``'CN'`` colors that index into the default property cycle.\n",
      "    \n",
      "    If the color is the only part of the format string, you can\n",
      "    additionally use any  `matplotlib.colors` spec, e.g. full names\n",
      "    (``'green'``) or hex strings (``'#008000'``).\n",
      "\n"
     ]
    }
   ],
   "source": [
    "help(plt.plot)"
   ]
  },
  {
   "cell_type": "markdown",
   "metadata": {
    "nbpresent": {
     "id": "0810eef4-2a96-4941-820e-9aa648be3cb6"
    },
    "slideshow": {
     "slide_type": "subslide"
    }
   },
   "source": [
    "### Lists, tuples, and dicts"
   ]
  },
  {
   "cell_type": "code",
   "execution_count": 39,
   "metadata": {
    "nbpresent": {
     "id": "b8105e7b-2976-473b-9ed7-8ea3ffe49864"
    }
   },
   "outputs": [
    {
     "name": "stdout",
     "output_type": "stream",
     "text": [
      "chicken\n",
      "[3, 'chicken', '4', 'pig', 2.2, 'goat', 'horse']\n"
     ]
    }
   ],
   "source": [
    "# This is a list. It has multiple elements and can be of mixed data types.\n",
    "barnyard = [3,'chicken','4','pig',2.2,'goat']\n",
    "\n",
    "# The list can be sub-indexed to access one element at a time:\n",
    "print(barnyard[1])\n",
    "\n",
    "# The list is mutable, meaning it can be changed\n",
    "barnyard.append('horse')\n",
    "print(barnyard)"
   ]
  },
  {
   "cell_type": "code",
   "execution_count": 40,
   "metadata": {
    "nbpresent": {
     "id": "b8105e7b-2976-473b-9ed7-8ea3ffe49864"
    }
   },
   "outputs": [],
   "source": [
    "# This is a tuple. It has multiple elements and can be of mixed data types, but it is immutable.\n",
    "junkyard = ('Ford','Chevy','John Deere')\n",
    "\n",
    "# The tuple can be sub-indexed :\n",
    "#print(junkyard[2])\n",
    "\n",
    "# The tuple is immutable, it can not be increased or decreased\n",
    "# junkyard.append('Tesla')# it's not possible!!\n",
    "# print(barnyard)"
   ]
  },
  {
   "cell_type": "markdown",
   "metadata": {},
   "source": [
    "## Conditionals:  if, elif, else"
   ]
  },
  {
   "cell_type": "code",
   "execution_count": null,
   "metadata": {},
   "outputs": [],
   "source": [
    "x = 100\n",
    "if x > 0:\n",
    "    print('Positive Number')\n",
    "elif x < 0:\n",
    "    print('Negative Number')\n",
    "else:\n",
    "    print ('Zero!')"
   ]
  },
  {
   "cell_type": "markdown",
   "metadata": {
    "nbpresent": {
     "id": "45acb467-f89c-4a38-81db-68154e9f28f9"
    },
    "slideshow": {
     "slide_type": "fragment"
    }
   },
   "source": [
    "---------\n",
    "---------\n",
    "\n",
    "## Complete the exercises below, adding your answers to the empty cells"
   ]
  },
  {
   "cell_type": "markdown",
   "metadata": {
    "nbpresent": {
     "id": "4ed0fd72-71d8-4bd3-9efd-327a2da0e5f0"
    }
   },
   "source": [
    "### What data types are barnyard1, barnyard2, barnyard3, and barnum?\n",
    "\n",
    "```barnyard1 = ['3','chicken','4','pig','2','goat']```\n",
    "\n",
    "```barnyard2 = 55```\n",
    "\n",
    "```barnyard3 = 'horses'```\n",
    "\n",
    "```barnum = 4.5```\n"
   ]
  },
  {
   "cell_type": "code",
   "execution_count": 45,
   "metadata": {},
   "outputs": [],
   "source": [
    "barnyard2 = ['3','chicken','4','pig','2','goat']\n",
    "\n",
    "barnyard1 = 55\n",
    "\n",
    "barnyard3 = 'horses'\n",
    "\n",
    "barnum = 4.5"
   ]
  },
  {
   "cell_type": "code",
   "execution_count": 46,
   "metadata": {},
   "outputs": [
    {
     "data": {
      "text/plain": [
       "int"
      ]
     },
     "execution_count": 46,
     "metadata": {},
     "output_type": "execute_result"
    }
   ],
   "source": [
    "type(barnyard1)"
   ]
  },
  {
   "cell_type": "code",
   "execution_count": null,
   "metadata": {},
   "outputs": [],
   "source": []
  },
  {
   "cell_type": "code",
   "execution_count": 47,
   "metadata": {},
   "outputs": [],
   "source": [
    "# Answer:"
   ]
  },
  {
   "cell_type": "markdown",
   "metadata": {
    "nbpresent": {
     "id": "7e19e53a-312f-4646-b60d-04177383cd9a"
    }
   },
   "source": [
    "### Indexing: What does this code do?  Answer, then uncomment and execute to check your answer."
   ]
  },
  {
   "cell_type": "code",
   "execution_count": 48,
   "metadata": {
    "nbpresent": {
     "id": "535256d6-dd85-4784-8588-433d5e7065ff"
    },
    "slideshow": {
     "slide_type": "notes"
    }
   },
   "outputs": [],
   "source": [
    "barnyard2 = [3.14,'chicken',4.5,'pig',2,'goat',33,'cows',12,'guinea foul']\n",
    "#barnyard2[-1]"
   ]
  },
  {
   "cell_type": "code",
   "execution_count": 49,
   "metadata": {
    "nbpresent": {
     "id": "535256d6-dd85-4784-8588-433d5e7065ff"
    },
    "slideshow": {
     "slide_type": "notes"
    }
   },
   "outputs": [
    {
     "data": {
      "text/plain": [
       "['chicken', 2]"
      ]
     },
     "execution_count": 49,
     "metadata": {},
     "output_type": "execute_result"
    }
   ],
   "source": [
    "# Subindexing every 3rd\n",
    "barnyard2[1:7:3]"
   ]
  },
  {
   "cell_type": "code",
   "execution_count": 55,
   "metadata": {},
   "outputs": [],
   "source": [
    "# more indexing\n",
    "#barnyard2[::-1]"
   ]
  },
  {
   "cell_type": "code",
   "execution_count": 50,
   "metadata": {},
   "outputs": [],
   "source": [
    "# Note that Python does not make a separate copy unless it is forced to do so.\n",
    "b = barnyard2\n",
    "\n",
    "# b is a pointer to the original list barnyard2\n",
    "b[4] = 'gorillaz'\n",
    "\n",
    "# Barnyard got modified as well. Woops.\n",
    "#print(barnyard2)"
   ]
  },
  {
   "cell_type": "code",
   "execution_count": 53,
   "metadata": {},
   "outputs": [],
   "source": [
    "# Make an explicit copy\n",
    "b = barnyard2.copy()\n",
    "\n",
    "b[4] = 'goat'\n",
    "#print(b); print(barnyard2)"
   ]
  },
  {
   "cell_type": "code",
   "execution_count": 51,
   "metadata": {},
   "outputs": [
    {
     "data": {
      "text/plain": [
       "'c'"
      ]
     },
     "execution_count": 51,
     "metadata": {},
     "output_type": "execute_result"
    }
   ],
   "source": [
    "# Subindex the element in list position 1 - what is the result?\n",
    "barnyard2[1][3]"
   ]
  },
  {
   "cell_type": "code",
   "execution_count": null,
   "metadata": {},
   "outputs": [],
   "source": [
    "#Answer:"
   ]
  },
  {
   "cell_type": "code",
   "execution_count": 52,
   "metadata": {
    "nbpresent": {
     "id": "fc2d2212-25aa-42aa-bde3-5c2a496beaad"
    },
    "slideshow": {
     "slide_type": "notes"
    }
   },
   "outputs": [],
   "source": [
    "#Make a new list that is 6 elements long, insert the value 6 into each element. \n",
    "alist = [6,6,6,6,6,6]\n",
    "\n",
    "# Append the term 'text' and the number 83.08 to your list.\n",
    "alist.append('text')\n",
    "alist.append(83.08)\n",
    "\n",
    "#Why did this fail?\n",
    "#alist[8] = 'more text'\n"
   ]
  },
  {
   "cell_type": "code",
   "execution_count": null,
   "metadata": {},
   "outputs": [],
   "source": []
  },
  {
   "cell_type": "markdown",
   "metadata": {},
   "source": [
    "**Answer:**"
   ]
  },
  {
   "cell_type": "markdown",
   "metadata": {},
   "source": [
    "###  Functional programming.\n",
    "\n",
    "Functional programming decomposes a programming task into a set of inputs and outputs.  In ** strictly ** functional programming, only the outputs are modified.\n",
    "\n",
    "### Procedural vs. declarative programming.\n",
    "** Procedural ** programming tells the computer how to complete a set of tasks.  \n",
    "\n",
    "Example of procedural:\n",
    "\n",
    "     >> First do...\n",
    "     >> Next do ...\n",
    "     >> Last print...\n",
    "     \n",
    "Example of declarative:\n",
    "\n",
    "     >> Give me all the values between 'beginning' and 'end'.   # The language decides what is more efficient."
   ]
  },
  {
   "cell_type": "markdown",
   "metadata": {},
   "source": [
    "### Break into your teams.  Ask each group to investigate one aspect of the programming environment and then report back with a simple lesson for the class.\n",
    "\n",
    "* Team 1: (Faramarzi, Lindsay).\tUsing Markdown language in Jupyter.   Give examples of how to format the page.  Investigate writing ‘pseudocode’ , tables, headers, etc.\n",
    "\n",
    "* Team 2: (Hill, Azizi). Equations in Markdown:  Investigate writing simple equations and lead the class through a tutorial.  \n",
    "\n",
    "* Team 3: (Guidry, Million).\tInvestigate constructing ‘for loops’ in Python.  Describe the purpose of the loop, and build a short exercise that uses for loops.\n",
    "\n",
    "* Team 4: (Saraf, Hardman).\tInvestigate modules in python.  Make a tutorial to show us how to build a simple module.\n",
    "\n",
    "* Team 5: (Sheets, Becker).  Investigate the use of boolean statements: True, False, and, or.  Make a simple tutorial in Jupyter.\n",
    "\n",
    "* Team 6: (Hafner, Liu). Investigate the use of conditional statements: if, elif, else.  Make a simple tutorial in Jupyter.\n",
    "\n",
    "* Team 7: (Touray, Green). Investigate the sequence of commands to make a simple plot using matplotlib.pyplot library.  Make a simple tutorial in Jupyter.\n",
    "\n",
    "* Team 8: (Olivo, Ashey). Using Markdown language in Jupyter.   Give examples of how to format the page.  Investigate writing ‘pseudocode’ , tables, headers, etc.\n",
    "\n",
    "* Team 9: (Glastra, Kmetz).  Investigate constructing ‘for loops’ in Python.  Describe the purpose of the loop, and build a short exercise that uses for loops.\n",
    "\n",
    "* Team 10: (Lizardo, Gilboa). Investigate the sequence of commands to make a simple plot using matplotlib.pyplot library.  Make a simple tutorial in Jupyter.\n",
    "\n",
    "* Team 11: (Larson, Cousens). Investigate constructing ‘for loops’ in Python.  Describe the purpose of the loop, and build a short exercise that uses for loops."
   ]
  },
  {
   "cell_type": "markdown",
   "metadata": {},
   "source": [
    "# Additional Notes #\n",
    "\n",
    "*NOTE:*  You can use the tab to autocomplete.\n",
    "*NOTE:*  You can use the up/down arrow keys to cycle through the command history.\n",
    "\n",
    "The following identifiers are used as reserved words, or keywords of the language, and cannot be used as ordinary identifiers. They must be spelled exactly as written here:\n",
    "\n",
    "    False      class      finally    is         return\n",
    "    None       continue   for        lambda     try\n",
    "    True       def        from       nonlocal   while\n",
    "    and        del        global     not        with\n",
    "    as         elif       if         or         yield\n",
    "    assert     else       import     pass\n",
    "    break      except     in         raise\n",
    "    \n",
    "Additionally, the following a built in functions which are always available in your namespace once you open a python interpreter\n",
    "\n",
    "    abs() dict() help() min() setattr() all() dir() hex() next() slice() any()\n",
    "    divmod() id() object() sorted() ascii() enumerate() input() oct() staticmethod()\n",
    "    bin() eval() int() open() str() bool() exec() isinstance() ord() sum() bytearray()\n",
    "    filter() issubclass() pow() super() bytes() float() iter() print() tuple()\n",
    "    callable() format() len() property() type() chr() frozenset() list() range()\n",
    "    vars() classmethod() getattr() locals() repr() zip() compile() globals() map()\n",
    "    reversed() __import__() complex() hasattr() max() round() delattr() hash()\n",
    "    memoryview() set()"
   ]
  }
 ],
 "metadata": {
  "kernelspec": {
   "display_name": "csc593",
   "language": "python",
   "name": "csc593"
  },
  "language_info": {
   "codemirror_mode": {
    "name": "ipython",
    "version": 3
   },
   "file_extension": ".py",
   "mimetype": "text/x-python",
   "name": "python",
   "nbconvert_exporter": "python",
   "pygments_lexer": "ipython3",
   "version": "3.6.12"
  },
  "nbpresent": {
   "slides": {
    "17ce48ab-fe3f-401e-b35d-799fa0612d0e": {
     "id": "17ce48ab-fe3f-401e-b35d-799fa0612d0e",
     "layout": "manual",
     "prev": null,
     "regions": {
      "28c307b5-e97e-436c-ae4d-1711f47c1dd0": {
       "attrs": {
        "height": 1,
        "pad": 0.01,
        "treemap:weight": 1,
        "width": 0.5,
        "x": 0,
        "y": 0
       },
       "id": "28c307b5-e97e-436c-ae4d-1711f47c1dd0"
      },
      "4f16de67-a87d-4319-8729-419edb8f0a11": {
       "attrs": {
        "height": 0.8,
        "width": 0.8,
        "x": 0.1,
        "y": 0.1
       },
       "id": "4f16de67-a87d-4319-8729-419edb8f0a11"
      },
      "528d703f-e1ff-4133-9c03-c56106924575": {
       "attrs": {
        "height": 0.8,
        "width": 0.8,
        "x": 0.1,
        "y": 0.1
       },
       "id": "528d703f-e1ff-4133-9c03-c56106924575"
      },
      "9a71a855-a3ac-4617-b6a5-c9b90ac3b477": {
       "attrs": {
        "height": 1,
        "pad": 0.01,
        "treemap:weight": 1,
        "width": 0.5,
        "x": 0.5,
        "y": 0
       },
       "content": {
        "cell": "07c056f8-7949-4dd6-985c-6d2e0ab1dbe3",
        "part": "source"
       },
       "id": "9a71a855-a3ac-4617-b6a5-c9b90ac3b477"
      }
     }
    }
   },
   "themes": {}
  }
 },
 "nbformat": 4,
 "nbformat_minor": 1
}
