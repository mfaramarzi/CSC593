{
 "cells": [
  {
   "cell_type": "markdown",
   "metadata": {},
   "source": [
    "Instructions\n",
    "Assignment Instructions\n",
    "\n",
    "Use the Jupyter and the attached .ipynb file to complete the assignment.  Add code to the cells as needed to make the plots and save your .ipynb file.  \n",
    "\n",
    "Make sure to add your name to the .ipynb file.\n",
    "\n",
    "Make sure your code works.  I should able to execute the program and get the same results that you got.\n",
    "\n",
    "    Use your knowledge of 'for loops', 'if statements' and plotting to complete the Basic_Stats.ipynb file.\n",
    "    It is not acceptable to solve this problem with pre-existing functions, e.g. numpy.mean().\n",
    "    Read Numpy and Matplotlib reference documents for next week.\n",
    "\n"
   ]
  },
  {
   "cell_type": "markdown",
   "metadata": {},
   "source": [
    "## Script to calculate Basic Statistics"
   ]
  },
  {
   "cell_type": "markdown",
   "metadata": {},
   "source": [
    "### Equation for the mean:   $\\mu_x = \\sum_{i=1}^{N}\\frac{x_i}{N}$\n",
    "\n",
    "### Equation for the standard deviation:  $\\sigma_x = \\sqrt{\\sum_{i=1}^{N}\\left(x_i - \\mu \\right)^2}\\frac{1}{N-1}$\n",
    "\n",
    "\n",
    "**Instructions:**\n",
    "\n",
    "**(1) Before you write code, write an algorithm that describes the sequence of steps you will take to compute the mean and standard deviation for your samples.  The algorithm can be written in pseudocode or as an itemized list.***\n",
    "\n",
    "**(2) Use 'for' loops to help yourself compute the average and standard deviation.**\n",
    "\n",
    "**(3) Use for loops and conditional operators to count the number of samples within $1\\sigma$ of the mean.**\n",
    "\n",
    "**Note:** It is not acceptable to use the pre-programmed routines for mean and st. dev., e.g. numpy.mean()"
   ]
  },
  {
   "cell_type": "markdown",
   "metadata": {},
   "source": [
    "### Edit this box to write an algorithm for computing the mean and std. deviation.\n",
    "\n",
    "~~~\n",
    "\n",
    "\n",
    "\n",
    "\n",
    "~~~"
   ]
  },
  {
   "cell_type": "markdown",
   "metadata": {},
   "source": [
    "---\n",
    "header-includes:\n",
    "  - \\usepackage[ruled,vlined,linesnumbered]{algorithm2e}\n",
    "---\n",
    "# Psedocode for calculation of Sum and Ave\n",
    "* begin Print an instruction for the user to use the code.\n",
    "* Assign \"zero\" as an integer to a new object named \"count\".\n",
    "* Assign \"zero\" as a float to a new object named \"sum\".\n",
    "* assign \"one\" as an integer to a new object named \"number\".\n",
    "* Make a ```while``` (conditional) loop to continue as long as number is not \"zero\"\n",
    "* Input ```number```\n",
    "* add ```number``` to ```sum``` and assign it to sum\n",
    "* add ```count``` by one and assigmn the result to ```count```\n",
    "* if the ```count``` is equal to zero print: \"input some numbers\"\n",
    "* else print: \"Average and Sum of the above numbers are: ```sum / (count-1) and sum)```\n",
    "\n",
    "\n"
   ]
  },
  {
   "cell_type": "code",
   "execution_count": 2,
   "metadata": {},
   "outputs": [
    {
     "name": "stdout",
     "output_type": "stream",
     "text": [
      "Input some integers to calculate their sum and average. Input 0 to exit.\n",
      "5\n",
      "9\n",
      "0\n",
      "Average and Sum of the above numbers are:  7.0 14.0\n"
     ]
    }
   ],
   "source": [
    "print(\"Input some integers to calculate their sum and average. Input 0 to exit.\")\n",
    "\n",
    "count = 0\n",
    "sum = 0.0\n",
    "number = 1\n",
    "\n",
    "while number != 0:\n",
    "\tnumber = int(input(\"\"))\n",
    "\tsum = sum + number\n",
    "\tcount += 1\n",
    "\n",
    "if count == 0:\n",
    "\tprint(\"Input some numbers\")\n",
    "else:\n",
    "\tprint(\"Average and Sum of the above numbers are: \", sum / (count-1), sum)"
   ]
  },
  {
   "cell_type": "markdown",
   "metadata": {},
   "source": [
    "### Write your code using instructions in the cells below."
   ]
  },
  {
   "cell_type": "markdown",
   "metadata": {},
   "source": [
    "# Put your Header information here.  Name, creation date, version, etc.\n",
    "**Name:** Masoud Faramarzi and Taylor Lindsay\n",
    "\n",
    "**Date:** 09/22/2020\n",
    "\n",
    "**Version:** 1"
   ]
  },
  {
   "cell_type": "code",
   "execution_count": 1,
   "metadata": {},
   "outputs": [],
   "source": [
    "# Import the matplotlib module here.  No other modules should be used.\n",
    "\n",
    "import matplotlib.pyplot as plt"
   ]
  },
  {
   "cell_type": "code",
   "execution_count": 11,
   "metadata": {},
   "outputs": [],
   "source": [
    "# Create a list variable that contains at least 25 elements.  You can create this list any number of ways.  \n",
    "# This will be your sample.\n",
    "\n",
    "sample_list = [1,2,3,4,5,6,7,8,9,10,11,12,13,14,15,16,17,18,19,20,21,22,23,24,25]"
   ]
  },
  {
   "cell_type": "code",
   "execution_count": 10,
   "metadata": {},
   "outputs": [
    {
     "name": "stdout",
     "output_type": "stream",
     "text": [
      "25\n"
     ]
    }
   ],
   "source": [
    "# Pretend you do not know how long x is; compute it's length, N, without using functions or modules.\n",
    "\n",
    "count = 0\n",
    "for i in sample_list:\n",
    "    count+=1\n",
    "    \n",
    "print(count)\n"
   ]
  },
  {
   "cell_type": "code",
   "execution_count": 20,
   "metadata": {},
   "outputs": [
    {
     "name": "stdout",
     "output_type": "stream",
     "text": [
      "13.541666666666666\n"
     ]
    }
   ],
   "source": [
    "# Compute the mean of the elements in list x.\n",
    "\n",
    "SUM = 0\n",
    "\n",
    "for i in sample_list:\n",
    "    SUM += i\n",
    "AVE = SUM / (count-1)\n",
    "\n"
   ]
  },
  {
   "cell_type": "code",
   "execution_count": 35,
   "metadata": {},
   "outputs": [],
   "source": [
    "# Compute the std deviation, using the mean and the elements in list x.\n",
    "sigma = 0\n",
    "for i in sample_list:\n",
    "    sigma += (i-AVE)**2 \n",
    "sigma *= 1/count\n",
    "sd = math.sqrt(sigma)\n",
    "\n",
    "\n"
   ]
  },
  {
   "cell_type": "code",
   "execution_count": 37,
   "metadata": {},
   "outputs": [
    {
     "name": "stdout",
     "output_type": "stream",
     "text": [
      "13.541666666666666\n",
      "7.231417757105295\n"
     ]
    }
   ],
   "source": [
    "# Use the 'print' command to report the values of average (mu) and std. dev. (sigma).\n",
    "print(AVE)\n",
    "print(sd)\n",
    "\n"
   ]
  },
  {
   "cell_type": "code",
   "execution_count": 46,
   "metadata": {},
   "outputs": [
    {
     "name": "stdout",
     "output_type": "stream",
     "text": [
      "14\n",
      "0.56\n"
     ]
    }
   ],
   "source": [
    "# Count the number of values that are within +/- 1 std. deviation of the mean.  \n",
    "# A normal distribution will have approx. 68% of the values within this range.  \n",
    "# Based on this criteria is the list normally distributed?\n",
    "count_one = 0\n",
    "for i in sample_list:\n",
    "    if -sd <=(i-AVE) <= sd:\n",
    "        count_one+=1\n",
    "    else:\n",
    "        pass\n",
    "print(count_one)\n",
    "print(count_one/count)"
   ]
  },
  {
   "cell_type": "markdown",
   "metadata": {},
   "source": [
    "Since less than 68% of values are out of +/-1 standard deviation range, it could be interpreted as a non-normal distributed set."
   ]
  },
  {
   "cell_type": "code",
   "execution_count": 47,
   "metadata": {},
   "outputs": [
    {
     "name": "stdout",
     "output_type": "stream",
     "text": [
      "It is NOT a normally distrubuted set\n"
     ]
    }
   ],
   "source": [
    "# Use print() and if statements to report a message about whether the data is normally distributed.\n",
    "\n",
    "if count_one/count < 0.63:\n",
    "    print(\"It is NOT a normally distrubuted set\")\n",
    "else:\n",
    "    print(\"It is a normally distrubuted set\")"
   ]
  },
  {
   "cell_type": "code",
   "execution_count": 55,
   "metadata": {},
   "outputs": [
    {
     "data": {
      "image/png": "[encoded data removed]",
      "text/plain": [
       "<Figure size 432x288 with 1 Axes>"
      ]
     },
     "metadata": {
      "needs_background": "light"
     },
     "output_type": "display_data"
    }
   ],
   "source": [
    "### Use Matplotlb.pyplot to make a histogram of x.\n",
    "\n",
    "%matplotlib inline\n",
    "plt.hist(sample_list, density=True, bins=50)  # `density=False` would make counts\n",
    "plt.ylabel('Probability')\n",
    "plt.xlabel('Data')"
   ]
  },
  {
   "cell_type": "markdown",
   "metadata": {
    "collapsed": true
   },
   "source": [
    "### OCG 593 students, look up an equation for Skewness and write code to compute the skewness. \n",
    "#### Compute the skewness and report whether the sample is normally distributed."
   ]
  },
  {
   "cell_type": "markdown",
   "metadata": {},
   "source": [
    "##### "
   ]
  }
 ],
 "metadata": {
  "kernelspec": {
   "display_name": "csc593",
   "language": "python",
   "name": "csc593"
  },
  "language_info": {
   "codemirror_mode": {
    "name": "ipython",
    "version": 3
   },
   "file_extension": ".py",
   "mimetype": "text/x-python",
   "name": "python",
   "nbconvert_exporter": "python",
   "pygments_lexer": "ipython3",
   "version": "3.6.12"
  }
 },
 "nbformat": 4,
 "nbformat_minor": 1
}
