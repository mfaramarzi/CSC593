{
 "cells": [
  {
   "cell_type": "markdown",
   "metadata": {},
   "source": [
    "Team 1: (Faramarzi, Lindsay). Using Markdown language in Jupyter. Give examples of how to format the page. Investigate writing ‘pseudocode’ , tables, headers, etc."
   ]
  },
  {
   "cell_type": "markdown",
   "metadata": {},
   "source": [
    "Syntax guide\n",
    "\n",
    "Here’s an overview of Markdown syntax that you can use anywhere on GitHub.com or in your own text files.\n",
    "Headers\n",
    "\n",
    "# This is an h1 tag\n",
    "## This is an h2 tag\n",
    "###### This is an  h3 tag\n"
   ]
  },
  {
   "cell_type": "code",
   "execution_count": null,
   "metadata": {},
   "outputs": [],
   "source": []
  }
 ],
 "metadata": {
  "kernelspec": {
   "display_name": "csc593",
   "language": "python",
   "name": "csc593"
  },
  "language_info": {
   "codemirror_mode": {
    "name": "ipython",
    "version": 3
   },
   "file_extension": ".py",
   "mimetype": "text/x-python",
   "name": "python",
   "nbconvert_exporter": "python",
   "pygments_lexer": "ipython3",
   "version": "3.6.12"
  }
 },
 "nbformat": 4,
 "nbformat_minor": 4
}
